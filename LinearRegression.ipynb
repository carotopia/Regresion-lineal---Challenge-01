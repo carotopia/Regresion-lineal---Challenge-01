{
 "cells": [
  {
   "cell_type": "markdown",
   "id": "70d8dcf9e314a4fa",
   "metadata": {
    "collapsed": false,
    "jupyter": {
     "outputs_hidden": false
    }
   },
   "source": [
    "# Actividad Regresión Lineal \n",
    "## Carolina Lara Suarez A01368710"
   ]
  },
  {
   "cell_type": "markdown",
   "id": "fbd3856f9d7ff2ca",
   "metadata": {
    "collapsed": false,
    "jupyter": {
     "outputs_hidden": false
    }
   },
   "source": [
    "### Modulos para análisis de datos y aprendizaje automático\n",
    "- Panadas (pd) Fundamental para el análisis y manipulación de datos\n",
    "- Numpy (np)  Soporte para arrays y matrices multidimensionales\n",
    "- Matplotlib.pyplot (plt) Representa gráficamente los resultados de análisis de datos.\n",
    "- Sklearn.linear_model.LinearRegression Modela la relación entre variables mediante una ecuación lineal para hacer predicciones.\n",
    "- Sklearn.model_selection.train_test_split Dividir conjuntos de datos en subconjuntos de entrenamiento y prueba. \n",
    "-  Sklearn.metrics (mean_squared_error, r2_score) Porporciona funciones para evaluar el rendimiento de modelos"
   ]
  },
  {
   "cell_type": "markdown",
   "id": "bcc87e5e8420ad4a",
   "metadata": {
    "collapsed": false,
    "jupyter": {
     "outputs_hidden": false
    }
   },
   "source": []
  },
  {
   "cell_type": "code",
   "execution_count": 1,
   "id": "a5f7380f40c483a7",
   "metadata": {
    "ExecuteTime": {
     "end_time": "2025-05-17T02:19:50.911005Z",
     "start_time": "2025-05-17T02:19:50.846646Z"
    },
    "collapsed": false,
    "jupyter": {
     "outputs_hidden": false
    }
   },
   "outputs": [],
   "source": [
    "import pandas as pd\n",
    "import numpy as np\n",
    "import matplotlib.pyplot as plt\n",
    "from sklearn.linear_model import LinearRegression\n",
    "from sklearn.model_selection import train_test_split\n",
    "from sklearn.metrics import mean_squared_error, r2_score\n",
    "\n"
   ]
  },
  {
   "cell_type": "markdown",
   "id": "ffb64b3a8c91c9db",
   "metadata": {
    "collapsed": false,
    "jupyter": {
     "outputs_hidden": false
    }
   },
   "source": [
    "### Cargar Datos\n",
    "- Archivo 'Valhalla23'\n",
    "- Columnas: Celsius y Valks"
   ]
  },
  {
   "cell_type": "code",
   "execution_count": 2,
   "id": "5025c6214bb9d5a6",
   "metadata": {
    "ExecuteTime": {
     "end_time": "2025-05-17T02:19:50.955581Z",
     "start_time": "2025-05-17T02:19:50.897680Z"
    },
    "collapsed": false,
    "jupyter": {
     "outputs_hidden": false
    }
   },
   "outputs": [
    {
     "name": "stdout",
     "output_type": "stream",
     "text": [
      "Dataset\n",
      "   Celsius    Valks\n",
      "0  61.4720 -139.740\n",
      "1  70.5790 -156.600\n",
      "2  -7.3013   73.269\n",
      "3  71.3380 -165.420\n",
      "4  43.2360  -75.835\n"
     ]
    }
   ],
   "source": [
    "df = pd.read_csv(\"Valhalla23.csv\")\n",
    "print(\"Dataset\")\n",
    "print(df.head())\n"
   ]
  },
  {
   "cell_type": "markdown",
   "id": "75efcdef41aa9fe8",
   "metadata": {
    "collapsed": false,
    "jupyter": {
     "outputs_hidden": false
    }
   },
   "source": [
    "### Obtener variables de predicción y objetivo\n",
    "- Columna X : 'Valks' Como Input\n",
    "- Colunma C : 'Celsius' Como Salida de predicción"
   ]
  },
  {
   "cell_type": "code",
   "execution_count": 3,
   "id": "e85df03cf2826e31",
   "metadata": {
    "ExecuteTime": {
     "end_time": "2025-05-17T02:19:50.962755Z",
     "start_time": "2025-05-17T02:19:50.957461Z"
    },
    "collapsed": false,
    "jupyter": {
     "outputs_hidden": false
    }
   },
   "outputs": [],
   "source": [
    "X = df[[\"Valks\"]]    \n",
    "y = df[\"Celsius\"] \n"
   ]
  },
  {
   "cell_type": "markdown",
   "id": "3d8f5a43d26340f3",
   "metadata": {
    "collapsed": false,
    "jupyter": {
     "outputs_hidden": false
    }
   },
   "source": [
    "### Separar Subconjuntos de entrenamiento y de prueba"
   ]
  },
  {
   "cell_type": "code",
   "execution_count": 4,
   "id": "f3485a316b4c6bc3",
   "metadata": {
    "ExecuteTime": {
     "end_time": "2025-05-17T02:19:50.998864Z",
     "start_time": "2025-05-17T02:19:50.967283Z"
    },
    "collapsed": false,
    "jupyter": {
     "outputs_hidden": false
    }
   },
   "outputs": [],
   "source": [
    "X_train, X_test, y_train, y_test = train_test_split(\n",
    "    X, y, test_size=0.2, random_state=42\n",
    ")"
   ]
  },
  {
   "cell_type": "markdown",
   "id": "b3522ff1880aff59",
   "metadata": {
    "collapsed": false,
    "jupyter": {
     "outputs_hidden": false
    }
   },
   "source": [
    "### Entrenar el modelo de regresión lineal "
   ]
  },
  {
   "cell_type": "code",
   "execution_count": 5,
   "id": "a0e01d28347ba37a",
   "metadata": {
    "ExecuteTime": {
     "end_time": "2025-05-17T02:19:51.016409Z",
     "start_time": "2025-05-17T02:19:50.995506Z"
    },
    "collapsed": false,
    "jupyter": {
     "outputs_hidden": false
    }
   },
   "outputs": [
    {
     "name": "stdout",
     "output_type": "stream",
     "text": [
      "Intercepto: 16.748979546942095\n",
      "Coeficientes: [-0.33310249]\n"
     ]
    }
   ],
   "source": [
    "model = LinearRegression()\n",
    "model.fit(X_train, y_train)\n",
    "print(f\"Intercepto: {model.intercept_}\")\n",
    "print(f\"Coeficientes: {model.coef_}\")\n"
   ]
  },
  {
   "cell_type": "markdown",
   "id": "137fd96a8689349b",
   "metadata": {
    "collapsed": false,
    "jupyter": {
     "outputs_hidden": false
    }
   },
   "source": [
    "### Evaluar el desempeño del modelo de regresión líneal\n",
    "- Primera evaluación: usando R2 \n",
    "- Segunda evaluación: manual con predicciones"
   ]
  },
  {
   "cell_type": "code",
   "execution_count": 6,
   "id": "24d81963dbf8fc2f",
   "metadata": {
    "ExecuteTime": {
     "end_time": "2025-05-17T02:19:51.037249Z",
     "start_time": "2025-05-17T02:19:51.021018Z"
    },
    "collapsed": false,
    "jupyter": {
     "outputs_hidden": false
    }
   },
   "outputs": [
    {
     "name": "stdout",
     "output_type": "stream",
     "text": [
      "R² en entrenamiento: 0.99\n",
      "R² en prueba: 1.00\n",
      "MSE en prueba: 2.38\n",
      "R² (manual) en prueba: 1.00\n"
     ]
    }
   ],
   "source": [
    "\n",
    "r2_train = model.score(X_train, y_train)\n",
    "r2_test = model.score(X_test, y_test)\n",
    "print(f\"R² en entrenamiento: {r2_train:.2f}\")\n",
    "print(f\"R² en prueba: {r2_test:.2f}\")\n",
    "\n",
    "\n",
    "y_pred = model.predict(X_test)\n",
    "mse = mean_squared_error(y_test, y_pred)\n",
    "r2 = r2_score(y_test, y_pred)\n",
    "\n",
    "print(f\"MSE en prueba: {mse:.2f}\")\n",
    "print(f\"R² (manual) en prueba: {r2:.2f}\")\n"
   ]
  },
  {
   "cell_type": "markdown",
   "id": "57e4b41c18ad1bbe",
   "metadata": {
    "collapsed": false,
    "jupyter": {
     "outputs_hidden": false
    }
   },
   "source": [
    "### Visualización de Datos"
   ]
  },
  {
   "cell_type": "code",
   "execution_count": 7,
   "id": "9541231cfeb0f747",
   "metadata": {
    "ExecuteTime": {
     "end_time": "2025-05-17T02:19:51.163772Z",
     "start_time": "2025-05-17T02:19:51.044439Z"
    },
    "collapsed": false,
    "jupyter": {
     "outputs_hidden": false
    }
   },
   "outputs": [
    {
     "data": {
      "image/png": "[encoded data removed]",
      "text/plain": [
       "<Figure size 640x480 with 1 Axes>"
      ]
     },
     "metadata": {},
     "output_type": "display_data"
    }
   ],
   "source": [
    "plt.scatter(X_test, y_test, color='purple', label='Valores reales')\n",
    "plt.plot(X_test, y_pred, color='blue', label='Predicción')\n",
    "plt.xlabel(\"Valks\")\n",
    "plt.ylabel(\"Celsius\")\n",
    "plt.title(\"Regresión Lineal: Valks vs Celsius\")\n",
    "plt.legend()\n",
    "intercepto = model.intercept_\n",
    "coef = model.coef_[0]\n",
    "r2_test = r2_score(y_test, model.predict(X_test))\n",
    "ecuacion = f'y = {intercepto:.2f} + ({coef:.2f})x'\n",
    "plt.text(0.05, 0.9, f'R² = {r2_test:.4f}', \n",
    "         transform=plt.gca().transAxes, fontsize=12, \n",
    "         bbox=dict(facecolor='white', alpha=0.8))\n",
    "\n",
    "plt.tight_layout()\n",
    "\n",
    "plt.show()"
   ]
  },
  {
   "cell_type": "markdown",
   "id": "10fac0aa812952b4",
   "metadata": {
    "collapsed": false,
    "jupyter": {
     "outputs_hidden": false
    }
   },
   "source": [
    "### Desempeño del modelo\n",
    "- Temperaturas ingresadas manualmentepara obtener el valor en celsius "
   ]
  },
  {
   "cell_type": "code",
   "execution_count": 8,
   "id": "8356b0cf066a94ae",
   "metadata": {
    "ExecuteTime": {
     "end_time": "2025-05-17T02:19:51.174878Z",
     "start_time": "2025-05-17T02:19:51.170674Z"
    },
    "collapsed": false,
    "jupyter": {
     "outputs_hidden": false
    }
   },
   "outputs": [
    {
     "name": "stdout",
     "output_type": "stream",
     "text": [
      "Predicciones de nuevos valores:\n",
      "Valks: 66.37 -> Celsius estimado: -5.36\n",
      "Valks: 130.0 -> Celsius estimado: -26.55\n",
      "Valks: 140.0 -> Celsius estimado: -29.89\n",
      "Comparación de valores reales vs predichos:\n",
      "      Valks  Celsius real  Celsius predicho  Error absoluto\n",
      "6  -142.020       64.9130         64.056195        0.856805\n",
      "4    54.276       -1.3127         -1.330491        0.017791\n",
      "2  -127.100       64.0720         59.086306        4.985694\n",
      "14   84.882      -12.4150        -11.525426        0.889574\n",
      "5    99.744      -16.5550        -16.475995        0.079005\n"
     ]
    }
   ],
   "source": [
    "nuevos_valks = pd.DataFrame({\"Valks\": [\n",
    "    66.37, 130, 140]})\n",
    "predicciones = model.predict(nuevos_valks)\n",
    "\n",
    "print(\"Predicciones de nuevos valores:\")\n",
    "\n",
    "for v, c in zip(nuevos_valks[\"Valks\"], predicciones):\n",
    "    print(f\"Valks: {v} -> Celsius estimado: {c:.2f}\")\n",
    "\n",
    "comparacion = pd.DataFrame({\n",
    "    \"Valks\": X_test[\"Valks\"].values,\n",
    "    \"Celsius real\": y_test.values,\n",
    "    \"Celsius predicho\": y_pred\n",
    "})\n",
    "\n",
    "\n",
    "comparacion[\"Error absoluto\"] = abs(comparacion[\"Celsius real\"] - comparacion[\"Celsius predicho\"])\n",
    "\n",
    "\n",
    "print(\"Comparación de valores reales vs predichos:\")\n",
    "print(comparacion.sample(5))\n"
   ]
  },
  {
   "cell_type": "markdown",
   "id": "89167200bdc45b95",
   "metadata": {
    "collapsed": false,
    "jupyter": {
     "outputs_hidden": false
    }
   },
   "source": [
    "### Análisis de la precisión del modelo de conversión de temperatura \n",
    " Al revisar los resultados del modelo para la conversión entre temperaturas  Valks y humanas Celsius, se oberva que el modelo es altamente preciso para un uso cotidiano. Los errores son minimos en el contexto de la medición de temperatura. El error máximo sería de alrededor de 1.4 °C y el error promedio es de menos de 1°C. Un error de 1-2°C es apenas perceptible para los humanos. No notaríamos la diferencia entre 22°C o 23°C en una habitación. \n",
    "\n",
    "\n"
   ]
  },
  {
   "cell_type": "markdown",
   "id": "55d234a3f1b3da9c",
   "metadata": {
    "collapsed": false,
    "jupyter": {
     "outputs_hidden": false
    }
   },
   "source": [
    "### Explicación en el contexto del Problema\n",
    "Este modelo funciona como un traductor de temperaturas entre Valks y Celsius. Es como tener un diccionario de  entre ambas especies sin tener confusiones que puedan llegar a generar conflictos. \n",
    "Gracias a este traductor, es posible comunicar información climática de manera precisa y segura en entornos compartidos, evitando malentendidos que podrían derivar en inconvenientes.\n",
    "\n",
    "\n",
    " \n",
    "\n",
    "  \n"
   ]
  }
 ],
 "metadata": {
  "kernelspec": {
   "display_name": "Python 3 (ipykernel)",
   "language": "python",
   "name": "python3"
  },
  "language_info": {
   "codemirror_mode": {
    "name": "ipython",
    "version": 3
   },
   "file_extension": ".py",
   "mimetype": "text/x-python",
   "name": "python",
   "nbconvert_exporter": "python",
   "pygments_lexer": "ipython3",
   "version": "3.11.5"
  }
 },
 "nbformat": 4,
 "nbformat_minor": 5
}
